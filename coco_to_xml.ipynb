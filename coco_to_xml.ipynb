{
 "cells": [
  {
   "cell_type": "code",
   "execution_count": 1,
   "metadata": {},
   "outputs": [],
   "source": [
    "from pascal_voc_writer import Writer\n",
    "import pandas as pd\n",
    "import concurrent.futures"
   ]
  },
  {
   "cell_type": "code",
   "execution_count": 2,
   "metadata": {},
   "outputs": [],
   "source": [
    "annotations = pd.read_csv('annotations/val_vehicles.csv', header=None)"
   ]
  },
  {
   "cell_type": "code",
   "execution_count": 3,
   "metadata": {
    "scrolled": true
   },
   "outputs": [
    {
     "data": {
      "text/html": [
       "<div>\n",
       "<style scoped>\n",
       "    .dataframe tbody tr th:only-of-type {\n",
       "        vertical-align: middle;\n",
       "    }\n",
       "\n",
       "    .dataframe tbody tr th {\n",
       "        vertical-align: top;\n",
       "    }\n",
       "\n",
       "    .dataframe thead th {\n",
       "        text-align: right;\n",
       "    }\n",
       "</style>\n",
       "<table border=\"1\" class=\"dataframe\">\n",
       "  <thead>\n",
       "    <tr style=\"text-align: right;\">\n",
       "      <th></th>\n",
       "      <th>0</th>\n",
       "      <th>1</th>\n",
       "      <th>2</th>\n",
       "      <th>3</th>\n",
       "      <th>4</th>\n",
       "      <th>5</th>\n",
       "      <th>6</th>\n",
       "      <th>7</th>\n",
       "    </tr>\n",
       "  </thead>\n",
       "  <tbody>\n",
       "    <tr>\n",
       "      <th>0</th>\n",
       "      <td>downloaded_images/000000359937.jpg</td>\n",
       "      <td>46</td>\n",
       "      <td>5</td>\n",
       "      <td>573</td>\n",
       "      <td>469</td>\n",
       "      <td>640</td>\n",
       "      <td>480</td>\n",
       "      <td>bus</td>\n",
       "    </tr>\n",
       "    <tr>\n",
       "      <th>1</th>\n",
       "      <td>downloaded_images/000000359937.jpg</td>\n",
       "      <td>565</td>\n",
       "      <td>252</td>\n",
       "      <td>640</td>\n",
       "      <td>394</td>\n",
       "      <td>640</td>\n",
       "      <td>480</td>\n",
       "      <td>bus</td>\n",
       "    </tr>\n",
       "    <tr>\n",
       "      <th>2</th>\n",
       "      <td>downloaded_images/000000436738.jpg</td>\n",
       "      <td>155</td>\n",
       "      <td>297</td>\n",
       "      <td>388</td>\n",
       "      <td>402</td>\n",
       "      <td>500</td>\n",
       "      <td>486</td>\n",
       "      <td>bus</td>\n",
       "    </tr>\n",
       "    <tr>\n",
       "      <th>3</th>\n",
       "      <td>downloaded_images/000000184324.jpg</td>\n",
       "      <td>117</td>\n",
       "      <td>208</td>\n",
       "      <td>156</td>\n",
       "      <td>259</td>\n",
       "      <td>640</td>\n",
       "      <td>425</td>\n",
       "      <td>bus</td>\n",
       "    </tr>\n",
       "    <tr>\n",
       "      <th>4</th>\n",
       "      <td>downloaded_images/000000454661.jpg</td>\n",
       "      <td>250</td>\n",
       "      <td>122</td>\n",
       "      <td>418</td>\n",
       "      <td>223</td>\n",
       "      <td>640</td>\n",
       "      <td>427</td>\n",
       "      <td>bus</td>\n",
       "    </tr>\n",
       "  </tbody>\n",
       "</table>\n",
       "</div>"
      ],
      "text/plain": [
       "                                    0    1    2    3    4    5    6    7\n",
       "0  downloaded_images/000000359937.jpg   46    5  573  469  640  480  bus\n",
       "1  downloaded_images/000000359937.jpg  565  252  640  394  640  480  bus\n",
       "2  downloaded_images/000000436738.jpg  155  297  388  402  500  486  bus\n",
       "3  downloaded_images/000000184324.jpg  117  208  156  259  640  425  bus\n",
       "4  downloaded_images/000000454661.jpg  250  122  418  223  640  427  bus"
      ]
     },
     "execution_count": 3,
     "metadata": {},
     "output_type": "execute_result"
    }
   ],
   "source": [
    "annotations.head()"
   ]
  },
  {
   "cell_type": "code",
   "execution_count": 4,
   "metadata": {},
   "outputs": [
    {
     "name": "stdout",
     "output_type": "stream",
     "text": [
      "Total number of annotations is 3319.0\n"
     ]
    }
   ],
   "source": [
    "print(f'Total number of annotations is {annotations.describe()[1][0]}')"
   ]
  },
  {
   "cell_type": "code",
   "execution_count": 5,
   "metadata": {},
   "outputs": [
    {
     "name": "stdout",
     "output_type": "stream",
     "text": [
      "Number of unique images are:870\n"
     ]
    }
   ],
   "source": [
    "print(f'Number of unique images are:{annotations.nunique()[0]}')"
   ]
  },
  {
   "cell_type": "code",
   "execution_count": 6,
   "metadata": {},
   "outputs": [],
   "source": [
    "grouped = annotations.groupby(0)"
   ]
  },
  {
   "cell_type": "code",
   "execution_count": 8,
   "metadata": {},
   "outputs": [],
   "source": [
    "images = annotations[0].unique()"
   ]
  },
  {
   "cell_type": "code",
   "execution_count": 9,
   "metadata": {},
   "outputs": [],
   "source": [
    "def save_annotations(each):\n",
    "    a = grouped.get_group(each)\n",
    "    a = a.reset_index(drop=True)\n",
    "    writer = Writer(each, a.loc[0][5], a.loc[0][6])\n",
    "    file_name = 'val/'+ each.split('/')[1].split('.')[0] + '.xml'\n",
    "    \n",
    "    for i in range(len(a)):\n",
    "        writer.addObject(a.loc[i][7], a.loc[i][1], a.loc[i][2], a.iloc[i][3], a.loc[i][4])\n",
    "    writer.save(file_name)"
   ]
  },
  {
   "cell_type": "code",
   "execution_count": 10,
   "metadata": {},
   "outputs": [],
   "source": [
    "with concurrent.futures.ThreadPoolExecutor() as executor:\n",
    "    executor.map(save_annotations, images)"
   ]
  },
  {
   "cell_type": "code",
   "execution_count": null,
   "metadata": {},
   "outputs": [],
   "source": []
  }
 ],
 "metadata": {
  "kernelspec": {
   "display_name": "Python 3",
   "language": "python",
   "name": "python3"
  },
  "language_info": {
   "codemirror_mode": {
    "name": "ipython",
    "version": 3
   },
   "file_extension": ".py",
   "mimetype": "text/x-python",
   "name": "python",
   "nbconvert_exporter": "python",
   "pygments_lexer": "ipython3",
   "version": "3.7.0"
  }
 },
 "nbformat": 4,
 "nbformat_minor": 2
}
