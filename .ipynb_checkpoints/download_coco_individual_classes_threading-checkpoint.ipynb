{
 "cells": [
  {
   "cell_type": "code",
   "execution_count": 1,
   "metadata": {},
   "outputs": [],
   "source": [
    "from pycocotools.coco import COCO\n",
    "import requests\n",
    "import csv\n",
    "import concurrent.futures\n",
    "from pascal_voc_writer import Writer"
   ]
  },
  {
   "cell_type": "code",
   "execution_count": 2,
   "metadata": {},
   "outputs": [
    {
     "name": "stdout",
     "output_type": "stream",
     "text": [
      "loading annotations into memory...\n",
      "Done (t=13.60s)\n",
      "creating index...\n",
      "index created!\n"
     ]
    }
   ],
   "source": [
    "coco = COCO('instances_train2017.json')"
   ]
  },
  {
   "cell_type": "code",
   "execution_count": 3,
   "metadata": {},
   "outputs": [
    {
     "name": "stdout",
     "output_type": "stream",
     "text": [
      "COCO categories: \n",
      "person bicycle car motorcycle airplane bus train truck boat traffic light fire hydrant stop sign parking meter bench bird cat dog horse sheep cow elephant bear zebra giraffe backpack umbrella handbag tie suitcase frisbee skis snowboard sports ball kite baseball bat baseball glove skateboard surfboard tennis racket bottle wine glass cup fork knife spoon bowl banana apple sandwich orange broccoli carrot hot dog pizza donut cake chair couch potted plant bed dining table toilet tv laptop mouse remote keyboard cell phone microwave oven toaster sink refrigerator book clock vase scissors teddy bear hair drier toothbrush\n",
      "\n"
     ]
    }
   ],
   "source": [
    "# Let's see all the classes available in the COCO dataset\n",
    "cats = coco.loadCats(coco.getCatIds())\n",
    "nms=[cat['name'] for cat in cats]\n",
    "print('COCO categories: \\n{}\\n'.format(' '.join(nms)))"
   ]
  },
  {
   "cell_type": "code",
   "execution_count": 4,
   "metadata": {},
   "outputs": [],
   "source": [
    "# Let's say we are interested only in the 'person' class\n",
    "catIds = coco.getCatIds(catNms=['person'])  # Here you may replace person with any other class that you want from the COCO classes\n",
    "imgIds = coco.getImgIds(catIds=catIds )\n",
    "images = coco.loadImgs(imgIds)"
   ]
  },
  {
   "cell_type": "code",
   "execution_count": 21,
   "metadata": {},
   "outputs": [],
   "source": [
    "# Defining the function to download the images\n",
    "def image_downloader(im):\n",
    "    print(\"im: \", im)\n",
    "    img_data = requests.get(im['coco_url']).content\n",
    "    with open('val/' + im['file_name'], 'wb') as handler:\n",
    "        handler.write(img_data)\n",
    "    "
   ]
  },
  {
   "cell_type": "code",
   "execution_count": 22,
   "metadata": {},
   "outputs": [
    {
     "name": "stdout",
     "output_type": "stream",
     "text": [
      "im:  {'license': 4, 'file_name': '000000184324.jpg', 'coco_url': 'http://images.cocodataset.org/val2017/000000184324.jpg', 'height': 425, 'width': 640, 'date_captured': '2013-11-17 05:31:28', 'flickr_url': 'http://farm4.staticflickr.com/3568/3364389746_361655c747_z.jpg', 'id': 184324}\n",
      "im:  {'license': 2, 'file_name': '000000546823.jpg', 'coco_url': 'http://images.cocodataset.org/val2017/000000546823.jpg', 'height': 480, 'width': 640, 'date_captured': '2013-11-18 20:39:29', 'flickr_url': 'http://farm3.staticflickr.com/2336/2346306710_d25a24fda5_z.jpg', 'id': 546823}\n",
      "im:  {'license': 3, 'file_name': '000000343561.jpg', 'coco_url': 'http://images.cocodataset.org/val2017/000000343561.jpg', 'height': 428, 'width': 640, 'date_captured': '2013-11-15 04:22:48', 'flickr_url': 'http://farm5.staticflickr.com/4118/4812500977_6b1c83b5c4_z.jpg', 'id': 343561}im:  {'license': 6, 'file_name': '000000169996.jpg', 'coco_url': 'http://images.cocodataset.org/val2017/000000169996.jpg', 'height': 480, 'width': 640, 'date_captured': '2013-11-14 11:27:20', 'flickr_url': 'http://farm3.staticflickr.com/2348/2400804792_d2e5da8232_z.jpg', 'id': 169996}\n",
      "im:  {'license': 1, 'file_name': '000000277005.jpg', 'coco_url': 'http://images.cocodataset.org/val2017/000000277005.jpg', 'height': 426, 'width': 640, 'date_captured': '2013-11-16 23:46:25', 'flickr_url': 'http://farm7.staticflickr.com/6233/6315596287_a690deabd9_z.jpg', 'id': 277005}\n",
      "\n",
      "im:  {'license': 2, 'file_name': '000000549390.jpg', 'coco_url': 'http://images.cocodataset.org/val2017/000000549390.jpg', 'height': 427, 'width': 640, 'date_captured': '2013-11-18 04:43:33', 'flickr_url': 'http://farm3.staticflickr.com/2478/3980730371_4afea4ce86_z.jpg', 'id': 549390}\n",
      "im:  {'license': 3, 'file_name': '000000384527.jpg', 'coco_url': 'http://images.cocodataset.org/val2017/000000384527.jpg', 'height': 480, 'width': 640, 'date_captured': '2013-11-22 01:43:11', 'flickr_url': 'http://farm3.staticflickr.com/2563/3910464798_27372f3cb2_z.jpg', 'id': 384527}\n",
      "im:  {'license': 3, 'file_name': '000000008211.jpg', 'coco_url': 'http://images.cocodataset.org/val2017/000000008211.jpg', 'height': 459, 'width': 640, 'date_captured': '2013-11-15 14:44:03', 'flickr_url': 'http://farm5.staticflickr.com/4103/5055051223_ed3fe568bb_z.jpg', 'id': 8211}\n",
      "im:  {'license': 3, 'file_name': '000000093717.jpg', 'coco_url': 'http://images.cocodataset.org/val2017/000000093717.jpg', 'height': 427, 'width': 640, 'date_captured': '2013-11-20 06:04:51', 'flickr_url': 'http://farm5.staticflickr.com/4020/4430678125_d9f9b2f5e1_z.jpg', 'id': 93717}\n",
      "im:  {'license': 5, 'file_name': '000000468505.jpg', 'coco_url': 'http://images.cocodataset.org/val2017/000000468505.jpg', 'height': 480, 'width': 640, 'date_captured': '2013-11-20 13:09:52', 'flickr_url': 'http://farm4.staticflickr.com/3012/2488900788_9115057573_z.jpg', 'id': 468505}\n",
      "im:  {'license': 1, 'file_name': '000000045596.jpg', 'coco_url': 'http://images.cocodataset.org/val2017/000000045596.jpg', 'height': 640, 'width': 408, 'date_captured': '2013-11-15 00:46:21', 'flickr_url': 'http://farm4.staticflickr.com/3534/4004822668_b9c1be7bcb_z.jpg', 'id': 45596}\n",
      "im:  {'license': 4, 'file_name': '000000274460.jpg', 'coco_url': 'http://images.cocodataset.org/val2017/000000274460.jpg', 'height': 454, 'width': 640, 'date_captured': '2013-11-20 22:29:00', 'flickr_url': 'http://farm7.staticflickr.com/6236/6267475434_0c28897158_z.jpg', 'id': 274460}\n",
      "im:  {'license': 1, 'file_name': '000000473118.jpg', 'coco_url': 'http://images.cocodataset.org/val2017/000000473118.jpg', 'height': 500, 'width': 346, 'date_captured': '2013-11-20 09:39:59', 'flickr_url': 'http://farm4.staticflickr.com/3035/3099792592_577943526e_z.jpg', 'id': 473118}\n",
      "im:  {'license': 1, 'file_name': '000000370208.jpg', 'coco_url': 'http://images.cocodataset.org/val2017/000000370208.jpg', 'height': 375, 'width': 500, 'date_captured': '2013-11-14 23:16:53', 'flickr_url': 'http://farm4.staticflickr.com/3114/2576404641_15ee5d5d25_z.jpg', 'id': 370208}\n",
      "im:  {'license': 6, 'file_name': '000000476704.jpg', 'coco_url': 'http://images.cocodataset.org/val2017/000000476704.jpg', 'height': 428, 'width': 640, 'date_captured': '2013-11-16 18:55:53', 'flickr_url': 'http://farm8.staticflickr.com/7280/7685056938_fd6f97531c_z.jpg', 'id': 476704}\n",
      "im:  {'license': 1, 'file_name': '000000067616.jpg', 'coco_url': 'http://images.cocodataset.org/val2017/000000067616.jpg', 'height': 480, 'width': 640, 'date_captured': '2013-11-17 10:24:45', 'flickr_url': 'http://farm8.staticflickr.com/7214/6861986830_34473988c3_z.jpg', 'id': 67616}\n",
      "im:  {'license': 4, 'file_name': '000000356387.jpg', 'coco_url': 'http://images.cocodataset.org/val2017/000000356387.jpg', 'height': 335, 'width': 500, 'date_captured': '2013-11-15 04:26:22', 'flickr_url': 'http://farm4.staticflickr.com/3013/3055048577_d0063c6acb_z.jpg', 'id': 356387}\n",
      "im:  {'license': 6, 'file_name': '000000162858.jpg', 'coco_url': 'http://images.cocodataset.org/val2017/000000162858.jpg', 'height': 640, 'width': 428, 'date_captured': '2013-11-16 13:34:00', 'flickr_url': 'http://farm4.staticflickr.com/3561/3357404611_4c15a8072b_z.jpg', 'id': 162858}\n",
      "im:  {'license': 6, 'file_name': '000000492077.jpg', 'coco_url': 'http://images.cocodataset.org/val2017/000000492077.jpg', 'height': 480, 'width': 640, 'date_captured': '2013-11-15 00:56:15', 'flickr_url': 'http://farm6.staticflickr.com/5057/5573502905_c63bf4a4d1_z.jpg', 'id': 492077}\n",
      "im:  {'license': 3, 'file_name': '000000439854.jpg', 'coco_url': 'http://images.cocodataset.org/val2017/000000439854.jpg', 'height': 333, 'width': 500, 'date_captured': '2013-11-19 23:38:44', 'flickr_url': 'http://farm4.staticflickr.com/3014/3078274607_ff2beac811_z.jpg', 'id': 439854}\n",
      "im:  {'license': 4, 'file_name': '000000472623.jpg', 'coco_url': 'http://images.cocodataset.org/val2017/000000472623.jpg', 'height': 640, 'width': 425, 'date_captured': '2013-11-15 01:47:07', 'flickr_url': 'http://farm6.staticflickr.com/5298/5540579478_e9d5e490b2_z.jpg', 'id': 472623}\n",
      "im:  {'license': 3, 'file_name': '000000203317.jpg', 'coco_url': 'http://images.cocodataset.org/val2017/000000203317.jpg', 'height': 423, 'width': 500, 'date_captured': '2013-11-15 02:41:36', 'flickr_url': 'http://farm1.staticflickr.com/168/473782444_8ec11ec7b3_z.jpg', 'id': 203317}\n",
      "im:  {'license': 5, 'file_name': '000000429109.jpg', 'coco_url': 'http://images.cocodataset.org/val2017/000000429109.jpg', 'height': 427, 'width': 640, 'date_captured': '2013-11-16 15:44:36', 'flickr_url': 'http://farm9.staticflickr.com/8347/8171276414_19d5eb8e3f_z.jpg', 'id': 429109}\n",
      "im:  {'license': 3, 'file_name': '000000259640.jpg', 'coco_url': 'http://images.cocodataset.org/val2017/000000259640.jpg', 'height': 427, 'width': 640, 'date_captured': '2013-11-15 05:03:30', 'flickr_url': 'http://farm3.staticflickr.com/2669/4126424581_7bfd3682c7_z.jpg', 'id': 259640}\n",
      "im:  {'license': 2, 'file_name': '000000157756.jpg', 'coco_url': 'http://images.cocodataset.org/val2017/000000157756.jpg', 'height': 640, 'width': 480, 'date_captured': '2013-11-24 15:15:39', 'flickr_url': 'http://farm9.staticflickr.com/8193/8148291355_4acc3dc84e_z.jpg', 'id': 157756}\n",
      "im:  {'license': 3, 'file_name': '000000167486.jpg', 'coco_url': 'http://images.cocodataset.org/val2017/000000167486.jpg', 'height': 480, 'width': 640, 'date_captured': '2013-11-24 12:42:21', 'flickr_url': 'http://farm3.staticflickr.com/2600/3961919110_208eefde1f_z.jpg', 'id': 167486}\n",
      "im:  {'license': 2, 'file_name': '000000289343.jpg', 'coco_url': 'http://images.cocodataset.org/val2017/000000289343.jpg', 'height': 640, 'width': 529, 'date_captured': '2013-11-15 00:35:14', 'flickr_url': 'http://farm5.staticflickr.com/4029/4669549715_7db3735de0_z.jpg', 'id': 289343}\n",
      "im:  {'license': 2, 'file_name': '000000227399.jpg', 'coco_url': 'http://images.cocodataset.org/val2017/000000227399.jpg', 'height': 482, 'width': 640, 'date_captured': '2013-11-17 08:02:36', 'flickr_url': 'http://farm4.staticflickr.com/3733/9412083734_fca5783d1a_z.jpg', 'id': 227399}\n",
      "im:  {'license': 4, 'file_name': '000000301135.jpg', 'coco_url': 'http://images.cocodataset.org/val2017/000000301135.jpg', 'height': 640, 'width': 428, 'date_captured': '2013-11-14 12:31:21', 'flickr_url': 'http://farm5.staticflickr.com/4135/4856973633_60deb1c609_z.jpg', 'id': 301135}\n",
      "im:  {'license': 6, 'file_name': '000000428111.jpg', 'coco_url': 'http://images.cocodataset.org/val2017/000000428111.jpg', 'height': 429, 'width': 640, 'date_captured': '2013-11-20 07:47:12', 'flickr_url': 'http://farm4.staticflickr.com/3625/3620639389_1c5d957c87_z.jpg', 'id': 428111}\n",
      "im:  {'license': 2, 'file_name': '000000228436.jpg', 'coco_url': 'http://images.cocodataset.org/val2017/000000228436.jpg', 'height': 485, 'width': 640, 'date_captured': '2013-11-14 23:13:59', 'flickr_url': 'http://farm6.staticflickr.com/5232/6921715956_85a99196b9_z.jpg', 'id': 228436}\n",
      "im:  {'license': 1, 'file_name': '000000226903.jpg', 'coco_url': 'http://images.cocodataset.org/val2017/000000226903.jpg', 'height': 480, 'width': 640, 'date_captured': '2013-11-20 17:52:46', 'flickr_url': 'http://farm4.staticflickr.com/3299/3509460833_f598d10a98_z.jpg', 'id': 226903}\n",
      "im:  {'license': 3, 'file_name': '000000403565.jpg', 'coco_url': 'http://images.cocodataset.org/val2017/000000403565.jpg', 'height': 640, 'width': 447, 'date_captured': '2013-11-15 00:40:37', 'flickr_url': 'http://farm4.staticflickr.com/3103/2561406947_c13271356e_z.jpg', 'id': 403565}\n"
     ]
    },
    {
     "name": "stdout",
     "output_type": "stream",
     "text": [
      "im:  {'license': 4, 'file_name': '000000242287.jpg', 'coco_url': 'http://images.cocodataset.org/val2017/000000242287.jpg', 'height': 640, 'width': 426, 'date_captured': '2013-11-15 02:41:42', 'flickr_url': 'http://farm3.staticflickr.com/2626/4072194513_edb6acfb2b_z.jpg', 'id': 242287}\n",
      "im:  {'license': 5, 'file_name': '000000226417.jpg', 'coco_url': 'http://images.cocodataset.org/val2017/000000226417.jpg', 'height': 333, 'width': 500, 'date_captured': '2013-11-14 11:31:34', 'flickr_url': 'http://farm1.staticflickr.com/193/495093205_cbb83a14ff_z.jpg', 'id': 226417}\n",
      "im:  {'license': 5, 'file_name': '000000070774.jpg', 'coco_url': 'http://images.cocodataset.org/val2017/000000070774.jpg', 'height': 425, 'width': 640, 'date_captured': '2013-11-15 04:26:25', 'flickr_url': 'http://farm6.staticflickr.com/5219/5517860224_7973e10013_z.jpg', 'id': 70774}\n",
      "im:  {'license': 3, 'file_name': '000000319607.jpg', 'coco_url': 'http://images.cocodataset.org/val2017/000000319607.jpg', 'height': 640, 'width': 640, 'date_captured': '2013-11-16 17:13:15', 'flickr_url': 'http://farm4.staticflickr.com/3283/2841950355_d0a96ce31f_z.jpg', 'id': 319607}\n",
      "im:  {'license': 1, 'file_name': '000000010363.jpg', 'coco_url': 'http://images.cocodataset.org/val2017/000000010363.jpg', 'height': 361, 'width': 640, 'date_captured': '2013-11-15 07:08:52', 'flickr_url': 'http://farm4.staticflickr.com/3027/2477308902_443e5baf08_z.jpg', 'id': 10363}\n",
      "im:  {'license': 4, 'file_name': '000000076416.jpg', 'coco_url': 'http://images.cocodataset.org/val2017/000000076416.jpg', 'height': 480, 'width': 640, 'date_captured': '2013-11-16 17:06:51', 'flickr_url': 'http://farm9.staticflickr.com/8478/8225218510_04ff392494_z.jpg', 'id': 76416}\n",
      "im:  {'license': 3, 'file_name': '000000185472.jpg', 'coco_url': 'http://images.cocodataset.org/val2017/000000185472.jpg', 'height': 480, 'width': 640, 'date_captured': '2013-11-17 04:35:09', 'flickr_url': 'http://farm1.staticflickr.com/15/21041307_e6188f6c39_z.jpg', 'id': 185472}\n",
      "im:  {'license': 3, 'file_name': '000000125572.jpg', 'coco_url': 'http://images.cocodataset.org/val2017/000000125572.jpg', 'height': 427, 'width': 640, 'date_captured': '2013-11-24 15:12:28', 'flickr_url': 'http://farm9.staticflickr.com/8486/8229817773_a673f33377_z.jpg', 'id': 125572}\n",
      "im:  {'license': 1, 'file_name': '000000558213.jpg', 'coco_url': 'http://images.cocodataset.org/val2017/000000558213.jpg', 'height': 432, 'width': 640, 'date_captured': '2013-11-20 06:14:13', 'flickr_url': 'http://farm3.staticflickr.com/2685/4473330483_cf0a03b782_z.jpg', 'id': 558213}\n",
      "im:  {'license': 4, 'file_name': '000000309391.jpg', 'coco_url': 'http://images.cocodataset.org/val2017/000000309391.jpg', 'height': 384, 'width': 640, 'date_captured': '2013-11-15 04:38:50', 'flickr_url': 'http://farm6.staticflickr.com/5246/5329327710_92169d73d4_z.jpg', 'id': 309391}\n",
      "im:  {'license': 5, 'file_name': '000000488592.jpg', 'coco_url': 'http://images.cocodataset.org/val2017/000000488592.jpg', 'height': 640, 'width': 480, 'date_captured': '2013-11-15 03:19:18', 'flickr_url': 'http://farm4.staticflickr.com/3201/2729006923_2090a46424_z.jpg', 'id': 488592}\n",
      "im:  {'license': 1, 'file_name': '000000361103.jpg', 'coco_url': 'http://images.cocodataset.org/val2017/000000361103.jpg', 'height': 427, 'width': 640, 'date_captured': '2013-11-16 19:11:34', 'flickr_url': 'http://farm4.staticflickr.com/3346/3556435620_b1787e8b2d_z.jpg', 'id': 361103}\n",
      "im:  {'license': 3, 'file_name': '000000040083.jpg', 'coco_url': 'http://images.cocodataset.org/val2017/000000040083.jpg', 'height': 333, 'width': 500, 'date_captured': '2013-11-18 03:30:24', 'flickr_url': 'http://farm1.staticflickr.com/116/254881838_e21c6d17b8_z.jpg', 'id': 40083}\n",
      "im:  {'license': 2, 'file_name': '000000072852.jpg', 'coco_url': 'http://images.cocodataset.org/val2017/000000072852.jpg', 'height': 640, 'width': 424, 'date_captured': '2013-11-17 04:20:54', 'flickr_url': 'http://farm7.staticflickr.com/6039/5895847884_1b67929c16_z.jpg', 'id': 72852}\n",
      "im:  {'license': 1, 'file_name': '000000378515.jpg', 'coco_url': 'http://images.cocodataset.org/val2017/000000378515.jpg', 'height': 640, 'width': 425, 'date_captured': '2013-11-19 19:32:09', 'flickr_url': 'http://farm5.staticflickr.com/4042/4551169640_a8d9d37306_z.jpg', 'id': 378515}\n",
      "im:  {'license': 3, 'file_name': '000000507037.jpg', 'coco_url': 'http://images.cocodataset.org/val2017/000000507037.jpg', 'height': 480, 'width': 640, 'date_captured': '2013-11-15 02:02:37', 'flickr_url': 'http://farm8.staticflickr.com/7460/8722353218_0434e124bb_z.jpg', 'id': 507037}\n",
      "im:  {'license': 1, 'file_name': '000000470173.jpg', 'coco_url': 'http://images.cocodataset.org/val2017/000000470173.jpg', 'height': 640, 'width': 446, 'date_captured': '2013-11-22 21:29:47', 'flickr_url': 'http://farm1.staticflickr.com/49/116732486_d4183fba96_z.jpg', 'id': 470173}\n",
      "im:  {'license': 1, 'file_name': '000000266400.jpg', 'coco_url': 'http://images.cocodataset.org/val2017/000000266400.jpg', 'height': 396, 'width': 640, 'date_captured': '2013-11-15 14:19:37', 'flickr_url': 'http://farm5.staticflickr.com/4135/4918549277_6125afd300_z.jpg', 'id': 266400}\n",
      "im:  {'license': 3, 'file_name': '000000388258.jpg', 'coco_url': 'http://images.cocodataset.org/val2017/000000388258.jpg', 'height': 478, 'width': 640, 'date_captured': '2013-11-16 12:59:43', 'flickr_url': 'http://farm7.staticflickr.com/6179/6183424891_fa32f2df93_z.jpg', 'id': 388258}\n",
      "im:  {'license': 2, 'file_name': '000000463522.jpg', 'coco_url': 'http://images.cocodataset.org/val2017/000000463522.jpg', 'height': 480, 'width': 640, 'date_captured': '2013-11-18 19:44:46', 'flickr_url': 'http://farm1.staticflickr.com/56/156111943_f36e0ca0ac_z.jpg', 'id': 463522}\n",
      "im:  {'license': 1, 'file_name': '000000573094.jpg', 'coco_url': 'http://images.cocodataset.org/val2017/000000573094.jpg', 'height': 500, 'width': 375, 'date_captured': '2013-11-22 01:02:44', 'flickr_url': 'http://farm3.staticflickr.com/2705/4179772471_6039ec56a7_z.jpg', 'id': 573094}\n",
      "im:  {'license': 3, 'file_name': '000000061108.jpg', 'coco_url': 'http://images.cocodataset.org/val2017/000000061108.jpg', 'height': 480, 'width': 640, 'date_captured': '2013-11-15 00:08:18', 'flickr_url': 'http://farm3.staticflickr.com/2555/4084750170_96bac0844a_z.jpg', 'id': 61108}\n",
      "im:  {'license': 4, 'file_name': '000000426166.jpg', 'coco_url': 'http://images.cocodataset.org/val2017/000000426166.jpg', 'height': 332, 'width': 500, 'date_captured': '2013-11-15 02:50:26', 'flickr_url': 'http://farm4.staticflickr.com/3052/2319776213_ced79b883c_z.jpg', 'id': 426166}\n",
      "im:  {'license': 3, 'file_name': '000000531134.jpg', 'coco_url': 'http://images.cocodataset.org/val2017/000000531134.jpg', 'height': 480, 'width': 640, 'date_captured': '2013-11-16 12:20:47', 'flickr_url': 'http://farm1.staticflickr.com/198/513976644_bf844d328f_z.jpg', 'id': 531134}\n",
      "im:  {'license': 2, 'file_name': '000000338625.jpg', 'coco_url': 'http://images.cocodataset.org/val2017/000000338625.jpg', 'height': 480, 'width': 640, 'date_captured': '2013-11-16 21:39:30', 'flickr_url': 'http://farm6.staticflickr.com/5471/9063817118_fb589ae433_z.jpg', 'id': 338625}\n",
      "im:  {'license': 3, 'file_name': '000000152771.jpg', 'coco_url': 'http://images.cocodataset.org/val2017/000000152771.jpg', 'height': 479, 'width': 640, 'date_captured': '2013-11-15 01:31:40', 'flickr_url': 'http://farm3.staticflickr.com/2468/4280000294_b45c72e223_z.jpg', 'id': 152771}\n",
      "im:  {'license': 2, 'file_name': '000000097988.jpg', 'coco_url': 'http://images.cocodataset.org/val2017/000000097988.jpg', 'height': 612, 'width': 612, 'date_captured': '2013-11-16 21:25:34', 'flickr_url': 'http://farm4.staticflickr.com/3776/8915831253_be956c6851_z.jpg', 'id': 97988}\n",
      "im:  {'license': 2, 'file_name': '000000008899.jpg', 'coco_url': 'http://images.cocodataset.org/val2017/000000008899.jpg', 'height': 539, 'width': 640, 'date_captured': '2013-11-16 20:39:33', 'flickr_url': 'http://farm8.staticflickr.com/7273/7722123984_0d123099bd_z.jpg', 'id': 8899}\n",
      "im:  {'license': 3, 'file_name': '000000177861.jpg', 'coco_url': 'http://images.cocodataset.org/val2017/000000177861.jpg', 'height': 640, 'width': 480, 'date_captured': '2013-11-18 10:48:53', 'flickr_url': 'http://farm7.staticflickr.com/6082/6125089634_1064504d46_z.jpg', 'id': 177861}\n",
      "im:  {'license': 3, 'file_name': '000000296649.jpg', 'coco_url': 'http://images.cocodataset.org/val2017/000000296649.jpg', 'height': 427, 'width': 640, 'date_captured': '2013-11-15 15:26:19', 'flickr_url': 'http://farm4.staticflickr.com/3577/3491669985_d81e1050c6_z.jpg', 'id': 296649}\n"
     ]
    },
    {
     "name": "stdout",
     "output_type": "stream",
     "text": [
      "im:  {'license': 3, 'file_name': '000000007386.jpg', 'coco_url': 'http://images.cocodataset.org/val2017/000000007386.jpg', 'height': 400, 'width': 600, 'date_captured': '2013-11-15 12:44:58', 'flickr_url': 'http://farm5.staticflickr.com/4148/5047682865_042ab1139d_z.jpg', 'id': 7386}\n",
      "im:  {'license': 4, 'file_name': '000000107226.jpg', 'coco_url': 'http://images.cocodataset.org/val2017/000000107226.jpg', 'height': 640, 'width': 480, 'date_captured': '2013-11-18 03:17:39', 'flickr_url': 'http://farm3.staticflickr.com/2139/2185708967_4da3c7fb32_z.jpg', 'id': 107226}\n",
      "im:  {'license': 4, 'file_name': '000000119516.jpg', 'coco_url': 'http://images.cocodataset.org/val2017/000000119516.jpg', 'height': 427, 'width': 640, 'date_captured': '2013-11-24 09:34:21', 'flickr_url': 'http://farm1.staticflickr.com/66/190818272_591479a383_z.jpg', 'id': 119516}\n",
      "im:  {'license': 3, 'file_name': '000000424162.jpg', 'coco_url': 'http://images.cocodataset.org/val2017/000000424162.jpg', 'height': 512, 'width': 640, 'date_captured': '2013-11-14 23:57:41', 'flickr_url': 'http://farm4.staticflickr.com/3088/5793281956_2a15b2559c_z.jpg', 'id': 424162}\n",
      "im:  {'license': 1, 'file_name': '000000196843.jpg', 'coco_url': 'http://images.cocodataset.org/val2017/000000196843.jpg', 'height': 480, 'width': 640, 'date_captured': '2013-11-16 19:57:47', 'flickr_url': 'http://farm4.staticflickr.com/3743/9916443776_91a58c2b62_z.jpg', 'id': 196843}\n",
      "im:  {'license': 1, 'file_name': '000000015597.jpg', 'coco_url': 'http://images.cocodataset.org/val2017/000000015597.jpg', 'height': 640, 'width': 433, 'date_captured': '2013-11-20 01:36:59', 'flickr_url': 'http://farm7.staticflickr.com/6128/5960989557_660cd5f173_z.jpg', 'id': 15597}\n",
      "im:  {'license': 1, 'file_name': '000000055022.jpg', 'coco_url': 'http://images.cocodataset.org/val2017/000000055022.jpg', 'height': 640, 'width': 480, 'date_captured': '2013-11-15 00:17:05', 'flickr_url': 'http://farm8.staticflickr.com/7151/6645582823_0056e535a9_z.jpg', 'id': 55022}\n",
      "im:  {'license': 2, 'file_name': '000000279278.jpg', 'coco_url': 'http://images.cocodataset.org/val2017/000000279278.jpg', 'height': 429, 'width': 640, 'date_captured': '2013-11-15 01:07:24', 'flickr_url': 'http://farm7.staticflickr.com/6101/6275412942_f8dc734c3f_z.jpg', 'id': 279278}\n",
      "im:  {'license': 1, 'file_name': '000000441586.jpg', 'coco_url': 'http://images.cocodataset.org/val2017/000000441586.jpg', 'height': 425, 'width': 640, 'date_captured': '2013-11-15 04:28:45', 'flickr_url': 'http://farm5.staticflickr.com/4086/4969727396_448f592a54_z.jpg', 'id': 441586}\n",
      "im:  {'license': 1, 'file_name': '000000135410.jpg', 'coco_url': 'http://images.cocodataset.org/val2017/000000135410.jpg', 'height': 640, 'width': 480, 'date_captured': '2013-11-17 10:27:45', 'flickr_url': 'http://farm2.staticflickr.com/1039/1418871599_0eb113933c_z.jpg', 'id': 135410}\n",
      "im:  {'license': 3, 'file_name': '000000059635.jpg', 'coco_url': 'http://images.cocodataset.org/val2017/000000059635.jpg', 'height': 640, 'width': 486, 'date_captured': '2013-11-20 23:25:37', 'flickr_url': 'http://farm3.staticflickr.com/2284/5735274038_49d33e32cf_z.jpg', 'id': 59635}\n",
      "im:  {'license': 4, 'file_name': '000000259830.jpg', 'coco_url': 'http://images.cocodataset.org/val2017/000000259830.jpg', 'height': 640, 'width': 425, 'date_captured': '2013-11-15 04:20:36', 'flickr_url': 'http://farm4.staticflickr.com/3412/3308735477_1db07df522_z.jpg', 'id': 259830}\n",
      "im:  {'license': 5, 'file_name': '000000274687.jpg', 'coco_url': 'http://images.cocodataset.org/val2017/000000274687.jpg', 'height': 480, 'width': 640, 'date_captured': '2013-11-15 02:08:08', 'flickr_url': 'http://farm4.staticflickr.com/3602/4075988767_c3b2313002_z.jpg', 'id': 274687}\n",
      "im:  {'license': 4, 'file_name': '000000261888.jpg', 'coco_url': 'http://images.cocodataset.org/val2017/000000261888.jpg', 'height': 426, 'width': 640, 'date_captured': '2013-11-15 00:15:51', 'flickr_url': 'http://farm5.staticflickr.com/4079/4918743472_0b684750c4_z.jpg', 'id': 261888}\n",
      "im:  {'license': 5, 'file_name': '000000233727.jpg', 'coco_url': 'http://images.cocodataset.org/val2017/000000233727.jpg', 'height': 427, 'width': 640, 'date_captured': '2013-11-16 23:14:52', 'flickr_url': 'http://farm9.staticflickr.com/8514/8507593850_2b80bee7cc_z.jpg', 'id': 233727}\n",
      "im:  {'license': 4, 'file_name': '000000076547.jpg', 'coco_url': 'http://images.cocodataset.org/val2017/000000076547.jpg', 'height': 480, 'width': 640, 'date_captured': '2013-11-17 09:53:38', 'flickr_url': 'http://farm9.staticflickr.com/8557/8771723390_13dc9d18fa_z.jpg', 'id': 76547}\n",
      "im:  {'license': 1, 'file_name': '000000251140.jpg', 'coco_url': 'http://images.cocodataset.org/val2017/000000251140.jpg', 'height': 500, 'width': 375, 'date_captured': '2013-11-15 03:06:14', 'flickr_url': 'http://farm1.staticflickr.com/37/86075448_628fbb6873_z.jpg', 'id': 251140}\n",
      "im:  {'license': 1, 'file_name': '000000356612.jpg', 'coco_url': 'http://images.cocodataset.org/val2017/000000356612.jpg', 'height': 416, 'width': 640, 'date_captured': '2013-11-17 16:54:43', 'flickr_url': 'http://farm3.staticflickr.com/2780/4444985182_6197c4ba62_z.jpg', 'id': 356612}\n",
      "im:  {'license': 2, 'file_name': '000000306437.jpg', 'coco_url': 'http://images.cocodataset.org/val2017/000000306437.jpg', 'height': 640, 'width': 426, 'date_captured': '2013-11-20 00:04:04', 'flickr_url': 'http://farm4.staticflickr.com/3743/9618740465_c951738fef_z.jpg', 'id': 306437}\n",
      "im:  {'license': 2, 'file_name': '000000065288.jpg', 'coco_url': 'http://images.cocodataset.org/val2017/000000065288.jpg', 'height': 427, 'width': 640, 'date_captured': '2013-11-17 04:00:31', 'flickr_url': 'http://farm8.staticflickr.com/7352/9983465373_e4fdf49096_z.jpg', 'id': 65288}\n",
      "im:  {'license': 1, 'file_name': '000000394510.jpg', 'coco_url': 'http://images.cocodataset.org/val2017/000000394510.jpg', 'height': 480, 'width': 640, 'date_captured': '2013-11-20 10:32:57', 'flickr_url': 'http://farm4.staticflickr.com/3195/2948181016_7cbbeeafab_z.jpg', 'id': 394510}\n",
      "im:  {'license': 4, 'file_name': '000000374545.jpg', 'coco_url': 'http://images.cocodataset.org/val2017/000000374545.jpg', 'height': 640, 'width': 549, 'date_captured': '2013-11-22 09:03:11', 'flickr_url': 'http://farm1.staticflickr.com/184/451764136_e652115475_z.jpg', 'id': 374545}\n",
      "im:  {'license': 1, 'file_name': '000000164115.jpg', 'coco_url': 'http://images.cocodataset.org/val2017/000000164115.jpg', 'height': 500, 'width': 500, 'date_captured': '2013-11-20 16:14:17', 'flickr_url': 'http://farm4.staticflickr.com/3070/2807365025_80671b351d_z.jpg', 'id': 164115}\n",
      "im:  {'license': 2, 'file_name': '000000132375.jpg', 'coco_url': 'http://images.cocodataset.org/val2017/000000132375.jpg', 'height': 480, 'width': 640, 'date_captured': '2013-11-24 05:12:15', 'flickr_url': 'http://farm5.staticflickr.com/4079/4826829501_203548f655_z.jpg', 'id': 132375}\n",
      "im:  {'license': 3, 'file_name': '000000378139.jpg', 'coco_url': 'http://images.cocodataset.org/val2017/000000378139.jpg', 'height': 427, 'width': 640, 'date_captured': '2013-11-17 22:09:28', 'flickr_url': 'http://farm3.staticflickr.com/2839/9354824707_ba594f021d_z.jpg', 'id': 378139}\n",
      "im:  {'license': 4, 'file_name': '000000190753.jpg', 'coco_url': 'http://images.cocodataset.org/val2017/000000190753.jpg', 'height': 478, 'width': 640, 'date_captured': '2013-11-18 11:47:56', 'flickr_url': 'http://farm9.staticflickr.com/8459/7887530962_c31e9f1474_z.jpg', 'id': 190753}\n",
      "im:  {'license': 5, 'file_name': '000000411938.jpg', 'coco_url': 'http://images.cocodataset.org/val2017/000000411938.jpg', 'height': 427, 'width': 640, 'date_captured': '2013-11-24 21:53:52', 'flickr_url': 'http://farm6.staticflickr.com/5301/5694283812_1ba30885f9_z.jpg', 'id': 411938}\n",
      "im:  {'license': 3, 'file_name': '000000184611.jpg', 'coco_url': 'http://images.cocodataset.org/val2017/000000184611.jpg', 'height': 480, 'width': 640, 'date_captured': '2013-11-18 12:09:14', 'flickr_url': 'http://farm1.staticflickr.com/1/740527_cad2438868_z.jpg', 'id': 184611}\n",
      "im:  {'license': 3, 'file_name': '000000388903.jpg', 'coco_url': 'http://images.cocodataset.org/val2017/000000388903.jpg', 'height': 332, 'width': 500, 'date_captured': '2013-11-19 22:01:24', 'flickr_url': 'http://farm5.staticflickr.com/4020/4417675093_995152070f_z.jpg', 'id': 388903}\n",
      "im:  {'license': 3, 'file_name': '000000099114.jpg', 'coco_url': 'http://images.cocodataset.org/val2017/000000099114.jpg', 'height': 335, 'width': 500, 'date_captured': '2013-11-17 00:07:16', 'flickr_url': 'http://farm2.staticflickr.com/1147/1468584600_9ebbc9619d_z.jpg', 'id': 99114}\n",
      "im:  {'license': 5, 'file_name': '000000351530.jpg', 'coco_url': 'http://images.cocodataset.org/val2017/000000351530.jpg', 'height': 378, 'width': 640, 'date_captured': '2013-11-16 22:01:29', 'flickr_url': 'http://farm9.staticflickr.com/8334/8125752591_b7f7b8da3b_z.jpg', 'id': 351530}\n",
      "im:  {'license': 4, 'file_name': '000000414510.jpg', 'coco_url': 'http://images.cocodataset.org/val2017/000000414510.jpg', 'height': 640, 'width': 480, 'date_captured': '2013-11-15 03:55:44', 'flickr_url': 'http://farm7.staticflickr.com/6011/5883783041_745340195b_z.jpg', 'id': 414510}\n",
      "im:  {'license': 1, 'file_name': '000000291634.jpg', 'coco_url': 'http://images.cocodataset.org/val2017/000000291634.jpg', 'height': 640, 'width': 433, 'date_captured': '2013-11-15 04:19:55', 'flickr_url': 'http://farm3.staticflickr.com/2466/3745107848_93f14d1ced_z.jpg', 'id': 291634}\n",
      "im:  {'license': 2, 'file_name': '000000224051.jpg', 'coco_url': 'http://images.cocodataset.org/val2017/000000224051.jpg', 'height': 428, 'width': 640, 'date_captured': '2013-11-14 22:52:36', 'flickr_url': 'http://farm6.staticflickr.com/5067/5661709113_b97be0cde2_z.jpg', 'id': 224051}\n"
     ]
    },
    {
     "name": "stdout",
     "output_type": "stream",
     "text": [
      "im:  {'license': 2, 'file_name': '000000350003.jpg', 'coco_url': 'http://images.cocodataset.org/val2017/000000350003.jpg', 'height': 480, 'width': 640, 'date_captured': '2013-11-17 19:51:18', 'flickr_url': 'http://farm9.staticflickr.com/8445/7858130416_bf868d66a5_z.jpg', 'id': 350003}\n",
      "im:  {'license': 1, 'file_name': '000000122166.jpg', 'coco_url': 'http://images.cocodataset.org/val2017/000000122166.jpg', 'height': 480, 'width': 640, 'date_captured': '2013-11-14 11:22:58', 'flickr_url': 'http://farm4.staticflickr.com/3021/2581636027_11c600d5d0_z.jpg', 'id': 122166}\n",
      "im:  {'license': 4, 'file_name': '000000301376.jpg', 'coco_url': 'http://images.cocodataset.org/val2017/000000301376.jpg', 'height': 500, 'width': 333, 'date_captured': '2013-11-14 22:36:36', 'flickr_url': 'http://farm4.staticflickr.com/3059/2718408461_4af7105d49_z.jpg', 'id': 301376}\n",
      "im:  {'license': 2, 'file_name': '000000185157.jpg', 'coco_url': 'http://images.cocodataset.org/val2017/000000185157.jpg', 'height': 640, 'width': 426, 'date_captured': '2013-11-17 02:11:00', 'flickr_url': 'http://farm5.staticflickr.com/4037/5075371191_1d6b0497f6_z.jpg', 'id': 185157}\n",
      "im:  {'license': 4, 'file_name': '000000065350.jpg', 'coco_url': 'http://images.cocodataset.org/val2017/000000065350.jpg', 'height': 427, 'width': 640, 'date_captured': '2013-11-20 05:15:48', 'flickr_url': 'http://farm5.staticflickr.com/4139/4869131880_ae3de10447_z.jpg', 'id': 65350}\n",
      "im:  {'license': 2, 'file_name': '000000350023.jpg', 'coco_url': 'http://images.cocodataset.org/val2017/000000350023.jpg', 'height': 480, 'width': 640, 'date_captured': '2013-11-16 17:25:37', 'flickr_url': 'http://farm4.staticflickr.com/3275/2838112020_69cf2381cb_z.jpg', 'id': 350023}\n",
      "im:  {'license': 1, 'file_name': '000000281929.jpg', 'coco_url': 'http://images.cocodataset.org/val2017/000000281929.jpg', 'height': 504, 'width': 640, 'date_captured': '2013-11-18 01:01:18', 'flickr_url': 'http://farm5.staticflickr.com/4062/4612141283_5e7a4e23d4_z.jpg', 'id': 281929}\n",
      "im:  {'license': 2, 'file_name': '000000074058.jpg', 'coco_url': 'http://images.cocodataset.org/val2017/000000074058.jpg', 'height': 427, 'width': 640, 'date_captured': '2013-11-15 00:43:40', 'flickr_url': 'http://farm3.staticflickr.com/2673/3853738920_ac4ae553f7_z.jpg', 'id': 74058}\n",
      "im:  {'license': 3, 'file_name': '000000130386.jpg', 'coco_url': 'http://images.cocodataset.org/val2017/000000130386.jpg', 'height': 500, 'width': 375, 'date_captured': '2013-11-17 02:01:35', 'flickr_url': 'http://farm1.staticflickr.com/28/89726642_17a27eab7e_z.jpg', 'id': 130386}\n",
      "im:  {'license': 6, 'file_name': '000000139099.jpg', 'coco_url': 'http://images.cocodataset.org/val2017/000000139099.jpg', 'height': 453, 'width': 640, 'date_captured': '2013-11-15 12:53:36', 'flickr_url': 'http://farm6.staticflickr.com/5461/9331950744_9c89179dcb_z.jpg', 'id': 139099}\n",
      "im:  {'license': 3, 'file_name': '000000254814.jpg', 'coco_url': 'http://images.cocodataset.org/val2017/000000254814.jpg', 'height': 480, 'width': 640, 'date_captured': '2013-11-16 11:56:41', 'flickr_url': 'http://farm1.staticflickr.com/127/373360820_3fc68d5446_z.jpg', 'id': 254814}\n",
      "im:  {'license': 4, 'file_name': '000000210273.jpg', 'coco_url': 'http://images.cocodataset.org/val2017/000000210273.jpg', 'height': 428, 'width': 640, 'date_captured': '2013-11-15 09:01:55', 'flickr_url': 'http://farm6.staticflickr.com/5163/5336041838_1a09008014_z.jpg', 'id': 210273}\n",
      "im:  {'license': 1, 'file_name': '000000357737.jpg', 'coco_url': 'http://images.cocodataset.org/val2017/000000357737.jpg', 'height': 480, 'width': 640, 'date_captured': '2013-11-15 04:23:02', 'flickr_url': 'http://farm4.staticflickr.com/3267/2877115654_ec12cbc121_z.jpg', 'id': 357737}\n",
      "im:  {'license': 1, 'file_name': '000000448365.jpg', 'coco_url': 'http://images.cocodataset.org/val2017/000000448365.jpg', 'height': 428, 'width': 640, 'date_captured': '2013-11-20 01:39:25', 'flickr_url': 'http://farm7.staticflickr.com/6079/6052677323_be8098b1a0_z.jpg', 'id': 448365}\n",
      "im:  {'license': 3, 'file_name': '000000013177.jpg', 'coco_url': 'http://images.cocodataset.org/val2017/000000013177.jpg', 'height': 427, 'width': 640, 'date_captured': '2013-11-15 20:03:10', 'flickr_url': 'http://farm8.staticflickr.com/7127/7607618094_78c23b097e_z.jpg', 'id': 13177}\n",
      "im:  {'license': 4, 'file_name': '000000210299.jpg', 'coco_url': 'http://images.cocodataset.org/val2017/000000210299.jpg', 'height': 480, 'width': 640, 'date_captured': '2013-11-14 11:04:12', 'flickr_url': 'http://farm7.staticflickr.com/6199/6207968507_effbfb5a1f_z.jpg', 'id': 210299}\n",
      "im:  {'license': 3, 'file_name': '000000295809.jpg', 'coco_url': 'http://images.cocodataset.org/val2017/000000295809.jpg', 'height': 512, 'width': 640, 'date_captured': '2013-11-14 23:04:45', 'flickr_url': 'http://farm7.staticflickr.com/6042/6349166356_12bfc7247a_z.jpg', 'id': 295809}\n",
      "im:  {'license': 1, 'file_name': '000000101762.jpg', 'coco_url': 'http://images.cocodataset.org/val2017/000000101762.jpg', 'height': 480, 'width': 640, 'date_captured': '2013-11-14 23:43:44', 'flickr_url': 'http://farm3.staticflickr.com/2068/2135673297_6c75c29c61_z.jpg', 'id': 101762}\n",
      "im:  {'license': 1, 'file_name': '000000082821.jpg', 'coco_url': 'http://images.cocodataset.org/val2017/000000082821.jpg', 'height': 427, 'width': 640, 'date_captured': '2013-11-18 07:35:41', 'flickr_url': 'http://farm4.staticflickr.com/3747/9252744041_f8620958cb_z.jpg', 'id': 82821}\n",
      "im:  {'license': 1, 'file_name': '000000193926.jpg', 'coco_url': 'http://images.cocodataset.org/val2017/000000193926.jpg', 'height': 477, 'width': 640, 'date_captured': '2013-11-15 18:44:51', 'flickr_url': 'http://farm5.staticflickr.com/4089/4979494682_5541df49d6_z.jpg', 'id': 193926}\n",
      "im:  {'license': 3, 'file_name': '000000492937.jpg', 'coco_url': 'http://images.cocodataset.org/val2017/000000492937.jpg', 'height': 612, 'width': 612, 'date_captured': '2013-11-15 04:55:56', 'flickr_url': 'http://farm9.staticflickr.com/8215/8413523703_f60308df73_z.jpg', 'id': 492937}\n",
      "im:  {'license': 4, 'file_name': '000000005001.jpg', 'coco_url': 'http://images.cocodataset.org/val2017/000000005001.jpg', 'height': 480, 'width': 640, 'date_captured': '2013-11-24 01:51:55', 'flickr_url': 'http://farm6.staticflickr.com/5298/5457068434_0929d78491_z.jpg', 'id': 5001}\n",
      "im:  {'license': 4, 'file_name': '000000577932.jpg', 'coco_url': 'http://images.cocodataset.org/val2017/000000577932.jpg', 'height': 543, 'width': 640, 'date_captured': '2013-11-15 01:10:04', 'flickr_url': 'http://farm5.staticflickr.com/4019/5159956078_f820c56d6f_z.jpg', 'id': 577932}\n",
      "im:  {'license': 4, 'file_name': '000000011149.jpg', 'coco_url': 'http://images.cocodataset.org/val2017/000000011149.jpg', 'height': 375, 'width': 500, 'date_captured': '2013-11-15 04:15:40', 'flickr_url': 'http://farm4.staticflickr.com/3625/3323418866_ea5017538d_z.jpg', 'id': 11149}\n",
      "im:  {'license': 1, 'file_name': '000000138639.jpg', 'coco_url': 'http://images.cocodataset.org/val2017/000000138639.jpg', 'height': 480, 'width': 640, 'date_captured': '2013-11-15 04:41:38', 'flickr_url': 'http://farm3.staticflickr.com/2610/4073486109_a163857799_z.jpg', 'id': 138639}\n",
      "im:  {'license': 6, 'file_name': '000000174482.jpg', 'coco_url': 'http://images.cocodataset.org/val2017/000000174482.jpg', 'height': 388, 'width': 640, 'date_captured': '2013-11-14 23:16:55', 'flickr_url': 'http://farm8.staticflickr.com/7020/6478877255_242f741dd1_z.jpg', 'id': 174482}\n",
      "im:  {'license': 1, 'file_name': '000000563604.jpg', 'coco_url': 'http://images.cocodataset.org/val2017/000000563604.jpg', 'height': 479, 'width': 640, 'date_captured': '2013-11-17 07:35:55', 'flickr_url': 'http://farm1.staticflickr.com/3/4679483_af7aba2bbe_z.jpg', 'id': 563604}\n",
      "im:  {'license': 3, 'file_name': '000000432553.jpg', 'coco_url': 'http://images.cocodataset.org/val2017/000000432553.jpg', 'height': 640, 'width': 427, 'date_captured': '2013-11-16 16:29:11', 'flickr_url': 'http://farm7.staticflickr.com/6199/6063047297_77dab8e974_z.jpg', 'id': 432553}\n",
      "im:  {'license': 3, 'file_name': '000000350122.jpg', 'coco_url': 'http://images.cocodataset.org/val2017/000000350122.jpg', 'height': 480, 'width': 640, 'date_captured': '2013-11-14 23:36:35', 'flickr_url': 'http://farm5.staticflickr.com/4122/4886757957_98fc49a770_z.jpg', 'id': 350122}\n",
      "im:  {'license': 1, 'file_name': '000000395180.jpg', 'coco_url': 'http://images.cocodataset.org/val2017/000000395180.jpg', 'height': 481, 'width': 640, 'date_captured': '2013-11-14 22:56:31', 'flickr_url': 'http://farm8.staticflickr.com/7369/8979712960_b52925c184_z.jpg', 'id': 395180}\n",
      "im:  {'license': 3, 'file_name': '000000256941.jpg', 'coco_url': 'http://images.cocodataset.org/val2017/000000256941.jpg', 'height': 500, 'width': 332, 'date_captured': '2013-11-15 00:49:07', 'flickr_url': 'http://farm4.staticflickr.com/3530/3919637880_97ddb479d3_z.jpg', 'id': 256941}\n",
      "im:  {'license': 1, 'file_name': '000000038829.jpg', 'coco_url': 'http://images.cocodataset.org/val2017/000000038829.jpg', 'height': 427, 'width': 640, 'date_captured': '2013-11-15 04:27:18', 'flickr_url': 'http://farm8.staticflickr.com/7033/6799538227_e49c4d13bc_z.jpg', 'id': 38829}\n"
     ]
    },
    {
     "name": "stdout",
     "output_type": "stream",
     "text": [
      "im:  {'license': 1, 'file_name': '000000447917.jpg', 'coco_url': 'http://images.cocodataset.org/val2017/000000447917.jpg', 'height': 362, 'width': 640, 'date_captured': '2013-11-20 18:47:38', 'flickr_url': 'http://farm6.staticflickr.com/5548/9448296519_50caff6b5e_z.jpg', 'id': 447917}\n",
      "im:  {'license': 5, 'file_name': '000000245173.jpg', 'coco_url': 'http://images.cocodataset.org/val2017/000000245173.jpg', 'height': 640, 'width': 480, 'date_captured': '2013-11-24 14:08:32', 'flickr_url': 'http://farm8.staticflickr.com/7313/9219346283_28dc2e7a71_z.jpg', 'id': 245173}\n",
      "im:  {'license': 1, 'file_name': '000000153527.jpg', 'coco_url': 'http://images.cocodataset.org/val2017/000000153527.jpg', 'height': 375, 'width': 500, 'date_captured': '2013-11-17 05:10:39', 'flickr_url': 'http://farm3.staticflickr.com/2475/3950273842_89878d9c1d_z.jpg', 'id': 153527}\n",
      "im:  {'license': 1, 'file_name': '000000490936.jpg', 'coco_url': 'http://images.cocodataset.org/val2017/000000490936.jpg', 'height': 640, 'width': 480, 'date_captured': '2013-11-15 17:49:58', 'flickr_url': 'http://farm8.staticflickr.com/7321/8725879741_7a306fb719_z.jpg', 'id': 490936}\n",
      "im:  {'license': 3, 'file_name': '000000011197.jpg', 'coco_url': 'http://images.cocodataset.org/val2017/000000011197.jpg', 'height': 427, 'width': 640, 'date_captured': '2013-11-17 03:59:36', 'flickr_url': 'http://farm8.staticflickr.com/7002/6732385791_cd9fcb9572_z.jpg', 'id': 11197}\n",
      "im:  {'license': 1, 'file_name': '000000144333.jpg', 'coco_url': 'http://images.cocodataset.org/val2017/000000144333.jpg', 'height': 640, 'width': 426, 'date_captured': '2013-11-14 22:58:37', 'flickr_url': 'http://farm5.staticflickr.com/4134/4782858440_3885462451_z.jpg', 'id': 144333}\n",
      "im:  {'license': 4, 'file_name': '000000571857.jpg', 'coco_url': 'http://images.cocodataset.org/val2017/000000571857.jpg', 'height': 426, 'width': 640, 'date_captured': '2013-11-16 13:16:55', 'flickr_url': 'http://farm7.staticflickr.com/6179/6199221017_d5f37ecb01_z.jpg', 'id': 571857}\n",
      "im:  {'license': 3, 'file_name': '000000570834.jpg', 'coco_url': 'http://images.cocodataset.org/val2017/000000570834.jpg', 'height': 480, 'width': 640, 'date_captured': '2013-11-15 04:49:40', 'flickr_url': 'http://farm3.staticflickr.com/2843/9494785038_b71553cac6_z.jpg', 'id': 570834}\n",
      "im:  {'license': 3, 'file_name': '000000508370.jpg', 'coco_url': 'http://images.cocodataset.org/val2017/000000508370.jpg', 'height': 640, 'width': 427, 'date_captured': '2013-11-15 00:31:46', 'flickr_url': 'http://farm6.staticflickr.com/5228/5636077145_9460089d29_z.jpg', 'id': 508370}\n",
      "im:  {'license': 1, 'file_name': '000000306136.jpg', 'coco_url': 'http://images.cocodataset.org/val2017/000000306136.jpg', 'height': 640, 'width': 428, 'date_captured': '2013-11-16 17:07:05', 'flickr_url': 'http://farm2.staticflickr.com/1008/662109385_922436e3a3_z.jpg', 'id': 306136}\n",
      "im:  {'license': 3, 'file_name': '000000210394.jpg', 'coco_url': 'http://images.cocodataset.org/val2017/000000210394.jpg', 'height': 480, 'width': 640, 'date_captured': '2013-11-16 22:53:11', 'flickr_url': 'http://farm9.staticflickr.com/8404/8613948465_7a698dd8b4_z.jpg', 'id': 210394}\n",
      "im:  {'license': 4, 'file_name': '000000341469.jpg', 'coco_url': 'http://images.cocodataset.org/val2017/000000341469.jpg', 'height': 640, 'width': 457, 'date_captured': '2013-11-18 10:21:15', 'flickr_url': 'http://farm9.staticflickr.com/8123/8659803549_02c7baa8a3_z.jpg', 'id': 341469}\n",
      "im:  {'license': 3, 'file_name': '000000050145.jpg', 'coco_url': 'http://images.cocodataset.org/val2017/000000050145.jpg', 'height': 320, 'width': 480, 'date_captured': '2013-11-17 07:09:10', 'flickr_url': 'http://farm1.staticflickr.com/93/205036374_863351431e_z.jpg', 'id': 50145}\n",
      "im:  {'license': 1, 'file_name': '000000036844.jpg', 'coco_url': 'http://images.cocodataset.org/val2017/000000036844.jpg', 'height': 480, 'width': 640, 'date_captured': '2013-11-21 00:57:49', 'flickr_url': 'http://farm2.staticflickr.com/1148/1380513519_bf3118f57a_z.jpg', 'id': 36844}\n",
      "im:  {'license': 5, 'file_name': '000000458223.jpg', 'coco_url': 'http://images.cocodataset.org/val2017/000000458223.jpg', 'height': 338, 'width': 640, 'date_captured': '2013-11-18 00:21:42', 'flickr_url': 'http://farm9.staticflickr.com/8315/7936120492_4fef29acb3_z.jpg', 'id': 458223}\n",
      "im:  {'license': 3, 'file_name': '000000142324.jpg', 'coco_url': 'http://images.cocodataset.org/val2017/000000142324.jpg', 'height': 480, 'width': 640, 'date_captured': '2013-11-15 15:26:49', 'flickr_url': 'http://farm4.staticflickr.com/3506/3178197954_0b83761bef_z.jpg', 'id': 142324}\n",
      "im:  {'license': 5, 'file_name': '000000135670.jpg', 'coco_url': 'http://images.cocodataset.org/val2017/000000135670.jpg', 'height': 500, 'width': 375, 'date_captured': '2013-11-15 04:48:22', 'flickr_url': 'http://farm3.staticflickr.com/2528/3925803088_79760dbe81_z.jpg', 'id': 135670}\n",
      "im:  {'license': 3, 'file_name': '000000413689.jpg', 'coco_url': 'http://images.cocodataset.org/val2017/000000413689.jpg', 'height': 426, 'width': 640, 'date_captured': '2013-11-18 05:02:59', 'flickr_url': 'http://farm8.staticflickr.com/7154/6506781427_965a5f2bc6_z.jpg', 'id': 413689}\n",
      "im:  {'license': 1, 'file_name': '000000087038.jpg', 'coco_url': 'http://images.cocodataset.org/val2017/000000087038.jpg', 'height': 480, 'width': 640, 'date_captured': '2013-11-14 23:11:37', 'flickr_url': 'http://farm8.staticflickr.com/7355/8825114508_b0fa4d7168_z.jpg', 'id': 87038}\n",
      "im:  {'license': 1, 'file_name': '000000109055.jpg', 'coco_url': 'http://images.cocodataset.org/val2017/000000109055.jpg', 'height': 480, 'width': 640, 'date_captured': '2013-11-14 23:45:40', 'flickr_url': 'http://farm1.staticflickr.com/21/37248397_dbe284ca85_z.jpg', 'id': 109055}\n"
     ]
    }
   ],
   "source": [
    "with concurrent.futures.ThreadPoolExecutor() as executor:\n",
    "    executor.map(image_downloader, images)"
   ]
  },
  {
   "cell_type": "code",
   "execution_count": 23,
   "metadata": {},
   "outputs": [],
   "source": [
    "with open('annotations_val_download_' + 'cycle' + '.csv', mode='w', newline='') as annot:\n",
    "    for im in images:\n",
    "        annIds = coco.getAnnIds(imgIds=im['id'], catIds=catIds, iscrowd=None)\n",
    "        anns = coco.loadAnns(annIds)\n",
    "        for i in range(len(anns)):\n",
    "            annot_writer = csv.writer(annot)\n",
    "            annot_writer.writerow(['downloaded_images/' + im['file_name'], int(round(anns[i]['bbox'][0])), int(round(anns[i]['bbox'][1])), int(round(anns[i]['bbox'][0] + anns[i]['bbox'][2])), int(round(anns[i]['bbox'][1] + anns[i]['bbox'][3])),im['width'],\n",
    "im['height'], 'cycle'])\n",
    "    annot.close()"
   ]
  },
  {
   "cell_type": "code",
   "execution_count": null,
   "metadata": {},
   "outputs": [],
   "source": []
  }
 ],
 "metadata": {
  "kernelspec": {
   "display_name": "Python 3",
   "language": "python",
   "name": "python3"
  },
  "language_info": {
   "codemirror_mode": {
    "name": "ipython",
    "version": 3
   },
   "file_extension": ".py",
   "mimetype": "text/x-python",
   "name": "python",
   "nbconvert_exporter": "python",
   "pygments_lexer": "ipython3",
   "version": "3.6.9"
  }
 },
 "nbformat": 4,
 "nbformat_minor": 2
}
